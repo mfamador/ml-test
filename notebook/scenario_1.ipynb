{
 "cells": [
  {
   "cell_type": "code",
   "execution_count": null,
   "metadata": {},
   "outputs": [],
   "source": [
    "# The goal is to reliably predict the retailer name based on receipt ocr raw textual data. \n",
    "# The raw retailer name comes on the `establishment` inside the `rawData` field. \n",
    "# The values in `establishment` may came in different flavors (i.e. Boots vs Boots UK) and \n",
    "# we want that the predicted value be unique (Boots).\n",
    "\n"
   ]
  },
  {
   "cell_type": "code",
   "execution_count": 3,
   "metadata": {
    "pycharm": {
     "is_executing": false
    }
   },
   "outputs": [],
   "source": [
    "import itertools\n",
    "import json\n",
    "\n",
    "import matplotlib.pyplot as plt\n",
    "import numpy as np\n",
    "import pandas as pd\n",
    "from keras import utils\n",
    "from keras.layers import Dense, Activation, Dropout\n",
    "from keras.models import Sequential\n",
    "from keras.preprocessing import text\n",
    "from sklearn.metrics import confusion_matrix\n",
    "from sklearn.preprocessing import LabelEncoder\n",
    "\n",
    "pd.options.display.max_colwidth = 10000"
   ]
  },
  {
   "cell_type": "code",
   "execution_count": 6,
   "metadata": {
    "pycharm": {
     "is_executing": false,
     "name": "#%%\n"
    }
   },
   "outputs": [
    {
     "data": {
      "text/html": [
       "<div>\n",
       "<style scoped>\n",
       "    .dataframe tbody tr th:only-of-type {\n",
       "        vertical-align: middle;\n",
       "    }\n",
       "\n",
       "    .dataframe tbody tr th {\n",
       "        vertical-align: top;\n",
       "    }\n",
       "\n",
       "    .dataframe thead th {\n",
       "        text-align: right;\n",
       "    }\n",
       "</style>\n",
       "<table border=\"1\" class=\"dataframe\">\n",
       "  <thead>\n",
       "    <tr style=\"text-align: right;\">\n",
       "      <th></th>\n",
       "      <th>comments</th>\n",
       "      <th>currency</th>\n",
       "      <th>lastUpdated</th>\n",
       "      <th>purchaseTime</th>\n",
       "      <th>status</th>\n",
       "      <th>uploadedTime</th>\n",
       "      <th>totalConfidence</th>\n",
       "      <th>lastOpenAt</th>\n",
       "      <th>lastVerifiedAt</th>\n",
       "      <th>taxTotal</th>\n",
       "      <th>total</th>\n",
       "      <th>deletedAt</th>\n",
       "      <th>retailerName</th>\n",
       "      <th>retailerCountry</th>\n",
       "      <th>retailerVatNumber</th>\n",
       "      <th>rawData</th>\n",
       "      <th>receiptImage</th>\n",
       "    </tr>\n",
       "  </thead>\n",
       "  <tbody>\n",
       "    <tr>\n",
       "      <th>0</th>\n",
       "      <td>NaN</td>\n",
       "      <td>GBP</td>\n",
       "      <td>2019-06-15 17:00:57</td>\n",
       "      <td>2019-06-14 18:20:00</td>\n",
       "      <td>REVIEWED</td>\n",
       "      <td>2019-06-14 22:11:40</td>\n",
       "      <td>0.7</td>\n",
       "      <td>NaN</td>\n",
       "      <td>2019-06-15 17:00:57</td>\n",
       "      <td>NaN</td>\n",
       "      <td>NaN</td>\n",
       "      <td>NaN</td>\n",
       "      <td>Selfridges</td>\n",
       "      <td>GB</td>\n",
       "      <td>NaN</td>\n",
       "      <td>{\"message\":\"SUCCESS: Result available\",\"status\":\"done\",\"status_code\":3,\"token\":null,\"success\":true,\"code\":202,\"duplicate\":false,\"duplicateToken\":null,\"result\":{\"establishment\":\"Selfridges\",\"validatedEstablishment\":false,\"date\":\"2019-06-14 18:20:00\",\"total\":30.000,\"url\":\"www.selfridges.com\",\"phoneNumber\":\"8569 4004156\",\"paymentMethod\":\"VISA\",\"address\":\"400 Oxford Street London W1A 1AB\",\"validatedTotal\":false,\"subTotal\":30.000,\"validatedSubTotal\":true,\"cash\":\"0.000\",\"change\":\"0.000\",\"tax\":0.000,\"discount\":0.000,\"subTotalConfidence\":0.99,\"totalConfidence\":0.7,\"cashConfidence\":0.0,\"changeConfidence\":0.0,\"roundingConfidence\":0.0,\"otherData\":[],\"lineItems\":[{\"qty\":0,\"desc\":\"FULTON BROLLYMA41568569 400415685692\",\"unit\":\"\",\"price\":0.000,\"descClean\":\"You 193 were served by : Ines FULTON BROLLYMA 400415685692\",\"lineTotal\":18.000,\"productCode\":\"41568569\"},{\"qty\":0,\"desc\":\"JJ DOT HYDR - TRA 82401412\",\"unit\":\"\",\"price\":0.000,\"descClean\":\"JJ DOT HYDR - TRA\",\"lineTotal\":12.000,\"productCode\":\"82401412\"}],\"summaryItems\":[{\"qty\":2,\"desc\":\"Total 2 Items\",\"unit\":\"\",\"price\":0.000,\"descClean\":\"Total Items\",\"lineTotal\":30.000,\"productCode\":\"\"},{\"qty\":0,\"desc\":\"Visa\",\"unit\":\"\",\"price\":0.000,\"descClean\":\"Visa\",\"lineTotal\":30.000,\"productCode\":\"\"},{\"qty\":14,\"desc\":\"009999 Date 14 / 06 / 19\",\"unit\":\"\",\"price\":0.000,\"descClean\":\"Date / 06 / 19\",\"lineTotal\":18.200,\"productCode\":\"009999\"}]}}</td>\n",
       "      <td>https://s3-eu-west-1.amazonaws.com/wevat-receipts/5955cc32-894b-4dbd-8c1f-f54fbd95d8e8</td>\n",
       "    </tr>\n",
       "  </tbody>\n",
       "</table>\n",
       "</div>"
      ],
      "text/plain": [
       "   comments currency          lastUpdated         purchaseTime    status  \\\n",
       "0       NaN      GBP  2019-06-15 17:00:57  2019-06-14 18:20:00  REVIEWED   \n",
       "\n",
       "          uploadedTime  totalConfidence lastOpenAt       lastVerifiedAt  \\\n",
       "0  2019-06-14 22:11:40              0.7        NaN  2019-06-15 17:00:57   \n",
       "\n",
       "   taxTotal  total deletedAt retailerName retailerCountry  retailerVatNumber  \\\n",
       "0       NaN    NaN       NaN   Selfridges              GB                NaN   \n",
       "\n",
       "                                                                                                                                                                                                                                                                                                                                                                                                                                                                                                                                                                                                                                                                                                                                                                                                                                                                                                                                                                                                                                                                                                                                                                                                                                                                                                                                                                                                                                    rawData  \\\n",
       "0  {\"message\":\"SUCCESS: Result available\",\"status\":\"done\",\"status_code\":3,\"token\":null,\"success\":true,\"code\":202,\"duplicate\":false,\"duplicateToken\":null,\"result\":{\"establishment\":\"Selfridges\",\"validatedEstablishment\":false,\"date\":\"2019-06-14 18:20:00\",\"total\":30.000,\"url\":\"www.selfridges.com\",\"phoneNumber\":\"8569 4004156\",\"paymentMethod\":\"VISA\",\"address\":\"400 Oxford Street London W1A 1AB\",\"validatedTotal\":false,\"subTotal\":30.000,\"validatedSubTotal\":true,\"cash\":\"0.000\",\"change\":\"0.000\",\"tax\":0.000,\"discount\":0.000,\"subTotalConfidence\":0.99,\"totalConfidence\":0.7,\"cashConfidence\":0.0,\"changeConfidence\":0.0,\"roundingConfidence\":0.0,\"otherData\":[],\"lineItems\":[{\"qty\":0,\"desc\":\"FULTON BROLLYMA41568569 400415685692\",\"unit\":\"\",\"price\":0.000,\"descClean\":\"You 193 were served by : Ines FULTON BROLLYMA 400415685692\",\"lineTotal\":18.000,\"productCode\":\"41568569\"},{\"qty\":0,\"desc\":\"JJ DOT HYDR - TRA 82401412\",\"unit\":\"\",\"price\":0.000,\"descClean\":\"JJ DOT HYDR - TRA\",\"lineTotal\":12.000,\"productCode\":\"82401412\"}],\"summaryItems\":[{\"qty\":2,\"desc\":\"Total 2 Items\",\"unit\":\"\",\"price\":0.000,\"descClean\":\"Total Items\",\"lineTotal\":30.000,\"productCode\":\"\"},{\"qty\":0,\"desc\":\"Visa\",\"unit\":\"\",\"price\":0.000,\"descClean\":\"Visa\",\"lineTotal\":30.000,\"productCode\":\"\"},{\"qty\":14,\"desc\":\"009999 Date 14 / 06 / 19\",\"unit\":\"\",\"price\":0.000,\"descClean\":\"Date / 06 / 19\",\"lineTotal\":18.200,\"productCode\":\"009999\"}]}}   \n",
       "\n",
       "                                                                             receiptImage  \n",
       "0  https://s3-eu-west-1.amazonaws.com/wevat-receipts/5955cc32-894b-4dbd-8c1f-f54fbd95d8e8  "
      ]
     },
     "execution_count": 6,
     "metadata": {},
     "output_type": "execute_result"
    }
   ],
   "source": [
    "# read provided dataset\n",
    "df = pd.read_csv(\"../receipt_data.csv\")\n",
    "df.head(1)"
   ]
  },
  {
   "cell_type": "code",
   "execution_count": 8,
   "metadata": {
    "pycharm": {
     "is_executing": false
    }
   },
   "outputs": [
    {
     "data": {
      "text/html": [
       "<div>\n",
       "<style scoped>\n",
       "    .dataframe tbody tr th:only-of-type {\n",
       "        vertical-align: middle;\n",
       "    }\n",
       "\n",
       "    .dataframe tbody tr th {\n",
       "        vertical-align: top;\n",
       "    }\n",
       "\n",
       "    .dataframe thead th {\n",
       "        text-align: right;\n",
       "    }\n",
       "</style>\n",
       "<table border=\"1\" class=\"dataframe\">\n",
       "  <thead>\n",
       "    <tr style=\"text-align: right;\">\n",
       "      <th></th>\n",
       "      <th>retailerName</th>\n",
       "      <th>rawData</th>\n",
       "    </tr>\n",
       "  </thead>\n",
       "  <tbody>\n",
       "    <tr>\n",
       "      <th>0</th>\n",
       "      <td>Selfridges</td>\n",
       "      <td>{\"message\":\"SUCCESS: Result available\",\"status\":\"done\",\"status_code\":3,\"token\":null,\"success\":true,\"code\":202,\"duplicate\":false,\"duplicateToken\":null,\"result\":{\"establishment\":\"Selfridges\",\"validatedEstablishment\":false,\"date\":\"2019-06-14 18:20:00\",\"total\":30.000,\"url\":\"www.selfridges.com\",\"phoneNumber\":\"8569 4004156\",\"paymentMethod\":\"VISA\",\"address\":\"400 Oxford Street London W1A 1AB\",\"validatedTotal\":false,\"subTotal\":30.000,\"validatedSubTotal\":true,\"cash\":\"0.000\",\"change\":\"0.000\",\"tax\":0.000,\"discount\":0.000,\"subTotalConfidence\":0.99,\"totalConfidence\":0.7,\"cashConfidence\":0.0,\"changeConfidence\":0.0,\"roundingConfidence\":0.0,\"otherData\":[],\"lineItems\":[{\"qty\":0,\"desc\":\"FULTON BROLLYMA41568569 400415685692\",\"unit\":\"\",\"price\":0.000,\"descClean\":\"You 193 were served by : Ines FULTON BROLLYMA 400415685692\",\"lineTotal\":18.000,\"productCode\":\"41568569\"},{\"qty\":0,\"desc\":\"JJ DOT HYDR - TRA 82401412\",\"unit\":\"\",\"price\":0.000,\"descClean\":\"JJ DOT HYDR - TRA\",\"lineTotal\":12.000,\"productCode\":\"82401412\"}],\"summaryItems\":[{\"qty\":2,\"desc\":\"Total 2 Items\",\"unit\":\"\",\"price\":0.000,\"descClean\":\"Total Items\",\"lineTotal\":30.000,\"productCode\":\"\"},{\"qty\":0,\"desc\":\"Visa\",\"unit\":\"\",\"price\":0.000,\"descClean\":\"Visa\",\"lineTotal\":30.000,\"productCode\":\"\"},{\"qty\":14,\"desc\":\"009999 Date 14 / 06 / 19\",\"unit\":\"\",\"price\":0.000,\"descClean\":\"Date / 06 / 19\",\"lineTotal\":18.200,\"productCode\":\"009999\"}]}}</td>\n",
       "    </tr>\n",
       "    <tr>\n",
       "      <th>1</th>\n",
       "      <td>Harrods</td>\n",
       "      <td>{\"message\":\"SUCCESS: Result available\",\"status\":\"done\",\"status_code\":3,\"token\":null,\"success\":true,\"code\":202,\"duplicate\":false,\"duplicateToken\":null,\"result\":{\"establishment\":\"Harrods\",\"validatedEstablishment\":false,\"date\":\"2019-06-19 13:24:00\",\"total\":86.000,\"url\":\"harrods.com\",\"phoneNumber\":\"020 7730 1234\",\"paymentMethod\":\"\",\"address\":\"LONDON S1 ot Road\",\"validatedTotal\":false,\"subTotal\":86.000,\"validatedSubTotal\":true,\"cash\":\"0.000\",\"change\":\"0.000\",\"tax\":0.000,\"discount\":0.000,\"subTotalConfidence\":0.6,\"totalConfidence\":0.0,\"cashConfidence\":0.0,\"changeConfidence\":0.0,\"roundingConfidence\":0.0,\"otherData\":[],\"lineItems\":[{\"qty\":0,\"desc\":\"Rewards 0005708615 Saving FRAGRANCE\",\"unit\":\"\",\"price\":0.000,\"descClean\":\"Rewards Saving FRAGRANCE f8.60\",\"lineTotal\":86.000,\"productCode\":\"0005708615\"}],\"summaryItems\":[{\"qty\":0,\"desc\":\"Sub Total\",\"unit\":\"\",\"price\":0.000,\"descClean\":\"Sub Total\",\"lineTotal\":86.000,\"productCode\":\"\"},{\"qty\":1,\"desc\":\"TOTAL ( 1 item )\",\"unit\":\"\",\"price\":0.000,\"descClean\":\"TOTAL ( item )\",\"lineTotal\":77.400,\"productCode\":\"\"},{\"qty\":0,\"desc\":\"Chinese Mobile Tendered\",\"unit\":\"\",\"price\":0.000,\"descClean\":\"Chinese Mobile Tendered\",\"lineTotal\":77.400,\"productCode\":\"\"},{\"qty\":0,\"desc\":\"Rewards Points balance\",\"unit\":\"\",\"price\":0.000,\"descClean\":\"Rewards Points balance\",\"lineTotal\":194.800,\"productCode\":\"\"}]}}</td>\n",
       "    </tr>\n",
       "    <tr>\n",
       "      <th>2</th>\n",
       "      <td>Boots</td>\n",
       "      <td>{\"message\":\"SUCCESS: Result available\",\"status\":\"done\",\"status_code\":3,\"token\":null,\"success\":true,\"code\":202,\"duplicate\":false,\"duplicateToken\":null,\"result\":{\"establishment\":\"Boots\",\"validatedEstablishment\":false,\"date\":\"2019-06-18 18:24:00\",\"total\":20.460,\"url\":\"\",\"phoneNumber\":\"(0115) 9410199\",\"paymentMethod\":\"\",\"address\":\"\",\"validatedTotal\":true,\"subTotal\":0.000,\"validatedSubTotal\":false,\"cash\":\"50.500\",\"change\":\"30.040\",\"tax\":0.000,\"discount\":0.000,\"subTotalConfidence\":0.0,\"totalConfidence\":0.99,\"cashConfidence\":0.99,\"changeConfidence\":0.99,\"roundingConfidence\":0.0,\"otherData\":[\"f\",\"Boots UK Limited\",\"NOTTINGHAM - 6\",\"18/06/2019\",\"(0115) 9410199\",\"18:24\",\"Served by: LAURIEN GOOD\",\"1404\",\"619 7646 0006 144 *6330************686\",\"\"],\"lineItems\":[{\"qty\":28,\"desc\":\"Nno Nno Int Int Wht Wht Stp Strong 28 2 5.00 NOW\",\"unit\":\"\",\"price\":0.000,\"descClean\":\"Nno Nno Int Int Wht Wht Stp Strong 2 5.00 NOW STUDENT DISCOUNT\",\"lineTotal\":18.750,\"productCode\":\"\"}],\"summaryItems\":[{\"qty\":0,\"desc\":\"TOTAL TO PAY\",\"unit\":\"\",\"price\":0.000,\"descClean\":\"TOTAL TO PAY\",\"lineTotal\":20.460,\"productCode\":\"\"},{\"qty\":0,\"desc\":\"CASH\",\"unit\":\"\",\"price\":0.000,\"descClean\":\"CASH\",\"lineTotal\":50.500,\"productCode\":\"\"},{\"qty\":0,\"desc\":\"CHANGE\",\"unit\":\"\",\"price\":0.000,\"descClean\":\"CHANGE\",\"lineTotal\":30.040,\"productCode\":\"\"}]}}</td>\n",
       "    </tr>\n",
       "    <tr>\n",
       "      <th>3</th>\n",
       "      <td>Selfridges</td>\n",
       "      <td>{\"message\":\"SUCCESS: Result available\",\"status\":\"done\",\"status_code\":3,\"token\":null,\"success\":true,\"code\":202,\"duplicate\":false,\"duplicateToken\":null,\"result\":{\"establishment\":\"Selfridges\",\"validatedEstablishment\":false,\"date\":\"2019-06-01 20:48:00\",\"total\":370.000,\"url\":\"www.selfridges.com\",\"phoneNumber\":\"+44 (0) 207 160 62\",\"paymentMethod\":\"ALIPAY\",\"address\":\"400 Oxford Street London W1A 1AB\",\"validatedTotal\":false,\"subTotal\":0.000,\"validatedSubTotal\":false,\"cash\":\"0.000\",\"change\":\"0.000\",\"tax\":0.000,\"discount\":0.000,\"subTotalConfidence\":0.0,\"totalConfidence\":0.0,\"cashConfidence\":0.0,\"changeConfidence\":0.0,\"roundingConfidence\":0.0,\"otherData\":[\"SELFRIDGES&amp;Cº\",\"400 Oxford Street London W1A 1AB\",\"Freephone 0800 123 400\",\"( From overseas +44 (0) 207 160 6222)\",\"V.A.T NO. GB 705 3259 52\",\"www.selfridges.com\",\"You were served by: Mikel\",\"Chanel RTW &amp; Accs\",\"1 @ f370.00\",\"CAR\",\"Notified terms and conditions will apply\",\"For details visit selfridges.com/london\",\"****************************** ************\",\"We have a passion for what we do and\",\"want you to have an amazing experience\",\"every time you come to Selfridges.\",\"*****************************************\",\"Loteborhoomorpbtitles 298 espela\",\"Shop online at www.selfridges.com\",\"You are welcome to exchange or refund\",\"your purchase by Sat 29 Jun 2019\",\"Please note Sale items\",\"can only be exchanged\",\"-\",\"-\",\"Term 0250 Opr 9999979506 Trans 3919\",\"Store 009999 Date 01/06/19 20:48\",\"00999902503919190601204713\",\"mellogu\",\"erot new uovi\",\"\"],\"lineItems\":[{\"qty\":1,\"desc\":\"1 @ f370.00\",\"unit\":\"\",\"price\":0.000,\"descClean\":\"f370.00\",\"lineTotal\":370.000,\"productCode\":\"\"},{\"qty\":1,\"desc\":\"Alipay READVICE\",\"unit\":\"\",\"price\":0.000,\"descClean\":\"- - Total Item READVICE f370.00 Alipay READVICE\",\"lineTotal\":370.000,\"productCode\":\"\"}],\"summaryItems\":[]}}</td>\n",
       "    </tr>\n",
       "    <tr>\n",
       "      <th>4</th>\n",
       "      <td>John Lewis</td>\n",
       "      <td>{\"message\":\"SUCCESS: Result available\",\"status\":\"done\",\"status_code\":3,\"token\":null,\"success\":true,\"code\":202,\"duplicate\":false,\"duplicateToken\":null,\"result\":{\"establishment\":\"John Lewis\",\"validatedEstablishment\":false,\"date\":\"2019-06-16 14:02:00\",\"total\":26.940,\"url\":\"www.johnlewis.com/customer\",\"phoneNumber\":\"0114 276 8511\",\"paymentMethod\":\"\",\"address\":\", SS1 2HB\",\"validatedTotal\":false,\"subTotal\":26.940,\"validatedSubTotal\":true,\"cash\":\"3.060\",\"change\":\"0.000\",\"tax\":4.490,\"discount\":0.000,\"subTotalConfidence\":0.0,\"totalConfidence\":0.6,\"cashConfidence\":0.6,\"changeConfidence\":0.0,\"roundingConfidence\":0.0,\"otherData\":[],\"lineItems\":[{\"qty\":0,\"desc\":\"S 73220442 Construction Toy\",\"unit\":\"\",\"price\":0.000,\"descClean\":\"S Construction Toy\",\"lineTotal\":8.970,\"productCode\":\"73220442\"},{\"qty\":2,\"desc\":\"S 73220446 Construction Toy\",\"unit\":\"\",\"price\":0.000,\"descClean\":\"S Construction Toy No.items\",\"lineTotal\":17.970,\"productCode\":\"73220446\"}],\"summaryItems\":[{\"qty\":0,\"desc\":\"Total\",\"unit\":\"\",\"price\":0.000,\"descClean\":\"Total\",\"lineTotal\":26.940,\"productCode\":\"\"},{\"qty\":0,\"desc\":\"Cash\",\"unit\":\"\",\"price\":0.000,\"descClean\":\"Cash\",\"lineTotal\":30.000,\"productCode\":\"\"},{\"qty\":0,\"desc\":\"Cash\",\"unit\":\"\",\"price\":0.000,\"descClean\":\"Cash\",\"lineTotal\":3.060,\"productCode\":\"\"},{\"qty\":5,\"desc\":\"S 20.0% 26.94 4.49\",\"unit\":\"\",\"price\":4.490,\"descClean\":\"S 20.0% 26.94\",\"lineTotal\":22.450,\"productCode\":\"\"}]}}</td>\n",
       "    </tr>\n",
       "  </tbody>\n",
       "</table>\n",
       "</div>"
      ],
      "text/plain": [
       "  retailerName  \\\n",
       "0   Selfridges   \n",
       "1      Harrods   \n",
       "2        Boots   \n",
       "3   Selfridges   \n",
       "4   John Lewis   \n",
       "\n",
       "                                                                                                                                                                                                                                                                                                                                                                                                                                                                                                                                                                                                                                                                                                                                                                                                                                                                                                                                                                                                                                                                                                                                                                                                                                                                                                                                                                                                                                                                                                                                                                                                                                                                                                                                                                                                                                                                                     rawData  \n",
       "0                                                                                                                                                                                                                                                                                                                                                                                                                                                   {\"message\":\"SUCCESS: Result available\",\"status\":\"done\",\"status_code\":3,\"token\":null,\"success\":true,\"code\":202,\"duplicate\":false,\"duplicateToken\":null,\"result\":{\"establishment\":\"Selfridges\",\"validatedEstablishment\":false,\"date\":\"2019-06-14 18:20:00\",\"total\":30.000,\"url\":\"www.selfridges.com\",\"phoneNumber\":\"8569 4004156\",\"paymentMethod\":\"VISA\",\"address\":\"400 Oxford Street London W1A 1AB\",\"validatedTotal\":false,\"subTotal\":30.000,\"validatedSubTotal\":true,\"cash\":\"0.000\",\"change\":\"0.000\",\"tax\":0.000,\"discount\":0.000,\"subTotalConfidence\":0.99,\"totalConfidence\":0.7,\"cashConfidence\":0.0,\"changeConfidence\":0.0,\"roundingConfidence\":0.0,\"otherData\":[],\"lineItems\":[{\"qty\":0,\"desc\":\"FULTON BROLLYMA41568569 400415685692\",\"unit\":\"\",\"price\":0.000,\"descClean\":\"You 193 were served by : Ines FULTON BROLLYMA 400415685692\",\"lineTotal\":18.000,\"productCode\":\"41568569\"},{\"qty\":0,\"desc\":\"JJ DOT HYDR - TRA 82401412\",\"unit\":\"\",\"price\":0.000,\"descClean\":\"JJ DOT HYDR - TRA\",\"lineTotal\":12.000,\"productCode\":\"82401412\"}],\"summaryItems\":[{\"qty\":2,\"desc\":\"Total 2 Items\",\"unit\":\"\",\"price\":0.000,\"descClean\":\"Total Items\",\"lineTotal\":30.000,\"productCode\":\"\"},{\"qty\":0,\"desc\":\"Visa\",\"unit\":\"\",\"price\":0.000,\"descClean\":\"Visa\",\"lineTotal\":30.000,\"productCode\":\"\"},{\"qty\":14,\"desc\":\"009999 Date 14 / 06 / 19\",\"unit\":\"\",\"price\":0.000,\"descClean\":\"Date / 06 / 19\",\"lineTotal\":18.200,\"productCode\":\"009999\"}]}}  \n",
       "1                                                                                                                                                                                                                                                                                                                                                                                                                                                                                                {\"message\":\"SUCCESS: Result available\",\"status\":\"done\",\"status_code\":3,\"token\":null,\"success\":true,\"code\":202,\"duplicate\":false,\"duplicateToken\":null,\"result\":{\"establishment\":\"Harrods\",\"validatedEstablishment\":false,\"date\":\"2019-06-19 13:24:00\",\"total\":86.000,\"url\":\"harrods.com\",\"phoneNumber\":\"020 7730 1234\",\"paymentMethod\":\"\",\"address\":\"LONDON S1 ot Road\",\"validatedTotal\":false,\"subTotal\":86.000,\"validatedSubTotal\":true,\"cash\":\"0.000\",\"change\":\"0.000\",\"tax\":0.000,\"discount\":0.000,\"subTotalConfidence\":0.6,\"totalConfidence\":0.0,\"cashConfidence\":0.0,\"changeConfidence\":0.0,\"roundingConfidence\":0.0,\"otherData\":[],\"lineItems\":[{\"qty\":0,\"desc\":\"Rewards 0005708615 Saving FRAGRANCE\",\"unit\":\"\",\"price\":0.000,\"descClean\":\"Rewards Saving FRAGRANCE f8.60\",\"lineTotal\":86.000,\"productCode\":\"0005708615\"}],\"summaryItems\":[{\"qty\":0,\"desc\":\"Sub Total\",\"unit\":\"\",\"price\":0.000,\"descClean\":\"Sub Total\",\"lineTotal\":86.000,\"productCode\":\"\"},{\"qty\":1,\"desc\":\"TOTAL ( 1 item )\",\"unit\":\"\",\"price\":0.000,\"descClean\":\"TOTAL ( item )\",\"lineTotal\":77.400,\"productCode\":\"\"},{\"qty\":0,\"desc\":\"Chinese Mobile Tendered\",\"unit\":\"\",\"price\":0.000,\"descClean\":\"Chinese Mobile Tendered\",\"lineTotal\":77.400,\"productCode\":\"\"},{\"qty\":0,\"desc\":\"Rewards Points balance\",\"unit\":\"\",\"price\":0.000,\"descClean\":\"Rewards Points balance\",\"lineTotal\":194.800,\"productCode\":\"\"}]}}  \n",
       "2                                                                                                                                                                                                                                                                                                                                                                                                                                                                                                                         {\"message\":\"SUCCESS: Result available\",\"status\":\"done\",\"status_code\":3,\"token\":null,\"success\":true,\"code\":202,\"duplicate\":false,\"duplicateToken\":null,\"result\":{\"establishment\":\"Boots\",\"validatedEstablishment\":false,\"date\":\"2019-06-18 18:24:00\",\"total\":20.460,\"url\":\"\",\"phoneNumber\":\"(0115) 9410199\",\"paymentMethod\":\"\",\"address\":\"\",\"validatedTotal\":true,\"subTotal\":0.000,\"validatedSubTotal\":false,\"cash\":\"50.500\",\"change\":\"30.040\",\"tax\":0.000,\"discount\":0.000,\"subTotalConfidence\":0.0,\"totalConfidence\":0.99,\"cashConfidence\":0.99,\"changeConfidence\":0.99,\"roundingConfidence\":0.0,\"otherData\":[\"f\",\"Boots UK Limited\",\"NOTTINGHAM - 6\",\"18/06/2019\",\"(0115) 9410199\",\"18:24\",\"Served by: LAURIEN GOOD\",\"1404\",\"619 7646 0006 144 *6330************686\",\"\"],\"lineItems\":[{\"qty\":28,\"desc\":\"Nno Nno Int Int Wht Wht Stp Strong 28 2 5.00 NOW\",\"unit\":\"\",\"price\":0.000,\"descClean\":\"Nno Nno Int Int Wht Wht Stp Strong 2 5.00 NOW STUDENT DISCOUNT\",\"lineTotal\":18.750,\"productCode\":\"\"}],\"summaryItems\":[{\"qty\":0,\"desc\":\"TOTAL TO PAY\",\"unit\":\"\",\"price\":0.000,\"descClean\":\"TOTAL TO PAY\",\"lineTotal\":20.460,\"productCode\":\"\"},{\"qty\":0,\"desc\":\"CASH\",\"unit\":\"\",\"price\":0.000,\"descClean\":\"CASH\",\"lineTotal\":50.500,\"productCode\":\"\"},{\"qty\":0,\"desc\":\"CHANGE\",\"unit\":\"\",\"price\":0.000,\"descClean\":\"CHANGE\",\"lineTotal\":30.040,\"productCode\":\"\"}]}}  \n",
       "3  {\"message\":\"SUCCESS: Result available\",\"status\":\"done\",\"status_code\":3,\"token\":null,\"success\":true,\"code\":202,\"duplicate\":false,\"duplicateToken\":null,\"result\":{\"establishment\":\"Selfridges\",\"validatedEstablishment\":false,\"date\":\"2019-06-01 20:48:00\",\"total\":370.000,\"url\":\"www.selfridges.com\",\"phoneNumber\":\"+44 (0) 207 160 62\",\"paymentMethod\":\"ALIPAY\",\"address\":\"400 Oxford Street London W1A 1AB\",\"validatedTotal\":false,\"subTotal\":0.000,\"validatedSubTotal\":false,\"cash\":\"0.000\",\"change\":\"0.000\",\"tax\":0.000,\"discount\":0.000,\"subTotalConfidence\":0.0,\"totalConfidence\":0.0,\"cashConfidence\":0.0,\"changeConfidence\":0.0,\"roundingConfidence\":0.0,\"otherData\":[\"SELFRIDGES&Cº\",\"400 Oxford Street London W1A 1AB\",\"Freephone 0800 123 400\",\"( From overseas +44 (0) 207 160 6222)\",\"V.A.T NO. GB 705 3259 52\",\"www.selfridges.com\",\"You were served by: Mikel\",\"Chanel RTW & Accs\",\"1 @ f370.00\",\"CAR\",\"Notified terms and conditions will apply\",\"For details visit selfridges.com/london\",\"****************************** ************\",\"We have a passion for what we do and\",\"want you to have an amazing experience\",\"every time you come to Selfridges.\",\"*****************************************\",\"Loteborhoomorpbtitles 298 espela\",\"Shop online at www.selfridges.com\",\"You are welcome to exchange or refund\",\"your purchase by Sat 29 Jun 2019\",\"Please note Sale items\",\"can only be exchanged\",\"-\",\"-\",\"Term 0250 Opr 9999979506 Trans 3919\",\"Store 009999 Date 01/06/19 20:48\",\"00999902503919190601204713\",\"mellogu\",\"erot new uovi\",\"\"],\"lineItems\":[{\"qty\":1,\"desc\":\"1 @ f370.00\",\"unit\":\"\",\"price\":0.000,\"descClean\":\"f370.00\",\"lineTotal\":370.000,\"productCode\":\"\"},{\"qty\":1,\"desc\":\"Alipay READVICE\",\"unit\":\"\",\"price\":0.000,\"descClean\":\"- - Total Item READVICE f370.00 Alipay READVICE\",\"lineTotal\":370.000,\"productCode\":\"\"}],\"summaryItems\":[]}}  \n",
       "4                                                                                                                                                                                                                                                                                                                                                                                                                                   {\"message\":\"SUCCESS: Result available\",\"status\":\"done\",\"status_code\":3,\"token\":null,\"success\":true,\"code\":202,\"duplicate\":false,\"duplicateToken\":null,\"result\":{\"establishment\":\"John Lewis\",\"validatedEstablishment\":false,\"date\":\"2019-06-16 14:02:00\",\"total\":26.940,\"url\":\"www.johnlewis.com/customer\",\"phoneNumber\":\"0114 276 8511\",\"paymentMethod\":\"\",\"address\":\", SS1 2HB\",\"validatedTotal\":false,\"subTotal\":26.940,\"validatedSubTotal\":true,\"cash\":\"3.060\",\"change\":\"0.000\",\"tax\":4.490,\"discount\":0.000,\"subTotalConfidence\":0.0,\"totalConfidence\":0.6,\"cashConfidence\":0.6,\"changeConfidence\":0.0,\"roundingConfidence\":0.0,\"otherData\":[],\"lineItems\":[{\"qty\":0,\"desc\":\"S 73220442 Construction Toy\",\"unit\":\"\",\"price\":0.000,\"descClean\":\"S Construction Toy\",\"lineTotal\":8.970,\"productCode\":\"73220442\"},{\"qty\":2,\"desc\":\"S 73220446 Construction Toy\",\"unit\":\"\",\"price\":0.000,\"descClean\":\"S Construction Toy No.items\",\"lineTotal\":17.970,\"productCode\":\"73220446\"}],\"summaryItems\":[{\"qty\":0,\"desc\":\"Total\",\"unit\":\"\",\"price\":0.000,\"descClean\":\"Total\",\"lineTotal\":26.940,\"productCode\":\"\"},{\"qty\":0,\"desc\":\"Cash\",\"unit\":\"\",\"price\":0.000,\"descClean\":\"Cash\",\"lineTotal\":30.000,\"productCode\":\"\"},{\"qty\":0,\"desc\":\"Cash\",\"unit\":\"\",\"price\":0.000,\"descClean\":\"Cash\",\"lineTotal\":3.060,\"productCode\":\"\"},{\"qty\":5,\"desc\":\"S 20.0% 26.94 4.49\",\"unit\":\"\",\"price\":4.490,\"descClean\":\"S 20.0% 26.94\",\"lineTotal\":22.450,\"productCode\":\"\"}]}}  "
      ]
     },
     "execution_count": 8,
     "metadata": {},
     "output_type": "execute_result"
    }
   ],
   "source": [
    "# filter retailerName to be used as label and rawData as features\n",
    "df = df.filter(['retailerName', 'rawData'])\n",
    "df.head(5)"
   ]
  },
  {
   "cell_type": "code",
   "execution_count": 9,
   "metadata": {
    "pycharm": {
     "is_executing": false
    }
   },
   "outputs": [
    {
     "data": {
      "text/plain": [
       "Selfridges           1961\n",
       "Boots                1601\n",
       "Harrods              1188\n",
       "Holland & Barrett     582\n",
       "John Lewis            458\n",
       "TK Maxx               433\n",
       "Debenhams             394\n",
       "Boots UK Limited      383\n",
       "Name: retailerName, dtype: int64"
      ]
     },
     "execution_count": 9,
     "metadata": {},
     "output_type": "execute_result"
    }
   ],
   "source": [
    "# we can see that some Boot tags are duplicated\n",
    "df['retailerName'].value_counts()"
   ]
  },
  {
   "cell_type": "code",
   "execution_count": 10,
   "metadata": {
    "pycharm": {
     "is_executing": false
    }
   },
   "outputs": [
    {
     "data": {
      "text/plain": [
       "Boots                1984\n",
       "Selfridges           1961\n",
       "Harrods              1188\n",
       "Holland & Barrett     582\n",
       "John Lewis            458\n",
       "TK Maxx               433\n",
       "Debenhams             394\n",
       "Name: retailerName, dtype: int64"
      ]
     },
     "execution_count": 10,
     "metadata": {},
     "output_type": "execute_result"
    }
   ],
   "source": [
    "# clean some data with bad labels\n",
    "df.retailerName = df.retailerName.str.replace('Boots.*', 'Boots', regex=True)\n",
    "\n",
    "# Boot retailer tags must be now deduplicated\n",
    "# The counts should be closer for the model be more balanced\n",
    "df['retailerName'].value_counts()"
   ]
  },
  {
   "cell_type": "code",
   "execution_count": 11,
   "metadata": {},
   "outputs": [
    {
     "data": {
      "text/html": [
       "<div>\n",
       "<style scoped>\n",
       "    .dataframe tbody tr th:only-of-type {\n",
       "        vertical-align: middle;\n",
       "    }\n",
       "\n",
       "    .dataframe tbody tr th {\n",
       "        vertical-align: top;\n",
       "    }\n",
       "\n",
       "    .dataframe thead th {\n",
       "        text-align: right;\n",
       "    }\n",
       "</style>\n",
       "<table border=\"1\" class=\"dataframe\">\n",
       "  <thead>\n",
       "    <tr style=\"text-align: right;\">\n",
       "      <th></th>\n",
       "      <th>retailerName</th>\n",
       "      <th>rawData</th>\n",
       "    </tr>\n",
       "  </thead>\n",
       "  <tbody>\n",
       "    <tr>\n",
       "      <th>685</th>\n",
       "      <td>Boots</td>\n",
       "      <td>NaN</td>\n",
       "    </tr>\n",
       "    <tr>\n",
       "      <th>1326</th>\n",
       "      <td>Boots</td>\n",
       "      <td>NaN</td>\n",
       "    </tr>\n",
       "    <tr>\n",
       "      <th>1537</th>\n",
       "      <td>John Lewis</td>\n",
       "      <td>NaN</td>\n",
       "    </tr>\n",
       "    <tr>\n",
       "      <th>1872</th>\n",
       "      <td>Holland &amp; Barrett</td>\n",
       "      <td>NaN</td>\n",
       "    </tr>\n",
       "    <tr>\n",
       "      <th>3050</th>\n",
       "      <td>Boots</td>\n",
       "      <td>NaN</td>\n",
       "    </tr>\n",
       "  </tbody>\n",
       "</table>\n",
       "</div>"
      ],
      "text/plain": [
       "           retailerName rawData\n",
       "685               Boots     NaN\n",
       "1326              Boots     NaN\n",
       "1537         John Lewis     NaN\n",
       "1872  Holland & Barrett     NaN\n",
       "3050              Boots     NaN"
      ]
     },
     "execution_count": 11,
     "metadata": {},
     "output_type": "execute_result"
    }
   ],
   "source": [
    "ignore = df[df.rawData.apply(lambda x: not isinstance(x, str))]\n",
    "ignore.head(5)"
   ]
  },
  {
   "cell_type": "code",
   "execution_count": 12,
   "metadata": {},
   "outputs": [
    {
     "data": {
      "text/html": [
       "<div>\n",
       "<style scoped>\n",
       "    .dataframe tbody tr th:only-of-type {\n",
       "        vertical-align: middle;\n",
       "    }\n",
       "\n",
       "    .dataframe tbody tr th {\n",
       "        vertical-align: top;\n",
       "    }\n",
       "\n",
       "    .dataframe thead th {\n",
       "        text-align: right;\n",
       "    }\n",
       "</style>\n",
       "<table border=\"1\" class=\"dataframe\">\n",
       "  <thead>\n",
       "    <tr style=\"text-align: right;\">\n",
       "      <th></th>\n",
       "      <th>retailerName</th>\n",
       "      <th>rawData</th>\n",
       "    </tr>\n",
       "  </thead>\n",
       "  <tbody>\n",
       "    <tr>\n",
       "      <th>0</th>\n",
       "      <td>Selfridges</td>\n",
       "      <td>{\"message\":\"SUCCESS: Result available\",\"status\":\"done\",\"status_code\":3,\"token\":null,\"success\":true,\"code\":202,\"duplicate\":false,\"duplicateToken\":null,\"result\":{\"establishment\":\"Selfridges\",\"validatedEstablishment\":false,\"date\":\"2019-06-14 18:20:00\",\"total\":30.000,\"url\":\"www.selfridges.com\",\"phoneNumber\":\"8569 4004156\",\"paymentMethod\":\"VISA\",\"address\":\"400 Oxford Street London W1A 1AB\",\"validatedTotal\":false,\"subTotal\":30.000,\"validatedSubTotal\":true,\"cash\":\"0.000\",\"change\":\"0.000\",\"tax\":0.000,\"discount\":0.000,\"subTotalConfidence\":0.99,\"totalConfidence\":0.7,\"cashConfidence\":0.0,\"changeConfidence\":0.0,\"roundingConfidence\":0.0,\"otherData\":[],\"lineItems\":[{\"qty\":0,\"desc\":\"FULTON BROLLYMA41568569 400415685692\",\"unit\":\"\",\"price\":0.000,\"descClean\":\"You 193 were served by : Ines FULTON BROLLYMA 400415685692\",\"lineTotal\":18.000,\"productCode\":\"41568569\"},{\"qty\":0,\"desc\":\"JJ DOT HYDR - TRA 82401412\",\"unit\":\"\",\"price\":0.000,\"descClean\":\"JJ DOT HYDR - TRA\",\"lineTotal\":12.000,\"productCode\":\"82401412\"}],\"summaryItems\":[{\"qty\":2,\"desc\":\"Total 2 Items\",\"unit\":\"\",\"price\":0.000,\"descClean\":\"Total Items\",\"lineTotal\":30.000,\"productCode\":\"\"},{\"qty\":0,\"desc\":\"Visa\",\"unit\":\"\",\"price\":0.000,\"descClean\":\"Visa\",\"lineTotal\":30.000,\"productCode\":\"\"},{\"qty\":14,\"desc\":\"009999 Date 14 / 06 / 19\",\"unit\":\"\",\"price\":0.000,\"descClean\":\"Date / 06 / 19\",\"lineTotal\":18.200,\"productCode\":\"009999\"}]}}</td>\n",
       "    </tr>\n",
       "    <tr>\n",
       "      <th>1</th>\n",
       "      <td>Harrods</td>\n",
       "      <td>{\"message\":\"SUCCESS: Result available\",\"status\":\"done\",\"status_code\":3,\"token\":null,\"success\":true,\"code\":202,\"duplicate\":false,\"duplicateToken\":null,\"result\":{\"establishment\":\"Harrods\",\"validatedEstablishment\":false,\"date\":\"2019-06-19 13:24:00\",\"total\":86.000,\"url\":\"harrods.com\",\"phoneNumber\":\"020 7730 1234\",\"paymentMethod\":\"\",\"address\":\"LONDON S1 ot Road\",\"validatedTotal\":false,\"subTotal\":86.000,\"validatedSubTotal\":true,\"cash\":\"0.000\",\"change\":\"0.000\",\"tax\":0.000,\"discount\":0.000,\"subTotalConfidence\":0.6,\"totalConfidence\":0.0,\"cashConfidence\":0.0,\"changeConfidence\":0.0,\"roundingConfidence\":0.0,\"otherData\":[],\"lineItems\":[{\"qty\":0,\"desc\":\"Rewards 0005708615 Saving FRAGRANCE\",\"unit\":\"\",\"price\":0.000,\"descClean\":\"Rewards Saving FRAGRANCE f8.60\",\"lineTotal\":86.000,\"productCode\":\"0005708615\"}],\"summaryItems\":[{\"qty\":0,\"desc\":\"Sub Total\",\"unit\":\"\",\"price\":0.000,\"descClean\":\"Sub Total\",\"lineTotal\":86.000,\"productCode\":\"\"},{\"qty\":1,\"desc\":\"TOTAL ( 1 item )\",\"unit\":\"\",\"price\":0.000,\"descClean\":\"TOTAL ( item )\",\"lineTotal\":77.400,\"productCode\":\"\"},{\"qty\":0,\"desc\":\"Chinese Mobile Tendered\",\"unit\":\"\",\"price\":0.000,\"descClean\":\"Chinese Mobile Tendered\",\"lineTotal\":77.400,\"productCode\":\"\"},{\"qty\":0,\"desc\":\"Rewards Points balance\",\"unit\":\"\",\"price\":0.000,\"descClean\":\"Rewards Points balance\",\"lineTotal\":194.800,\"productCode\":\"\"}]}}</td>\n",
       "    </tr>\n",
       "    <tr>\n",
       "      <th>2</th>\n",
       "      <td>Boots</td>\n",
       "      <td>{\"message\":\"SUCCESS: Result available\",\"status\":\"done\",\"status_code\":3,\"token\":null,\"success\":true,\"code\":202,\"duplicate\":false,\"duplicateToken\":null,\"result\":{\"establishment\":\"Boots\",\"validatedEstablishment\":false,\"date\":\"2019-06-18 18:24:00\",\"total\":20.460,\"url\":\"\",\"phoneNumber\":\"(0115) 9410199\",\"paymentMethod\":\"\",\"address\":\"\",\"validatedTotal\":true,\"subTotal\":0.000,\"validatedSubTotal\":false,\"cash\":\"50.500\",\"change\":\"30.040\",\"tax\":0.000,\"discount\":0.000,\"subTotalConfidence\":0.0,\"totalConfidence\":0.99,\"cashConfidence\":0.99,\"changeConfidence\":0.99,\"roundingConfidence\":0.0,\"otherData\":[\"f\",\"Boots UK Limited\",\"NOTTINGHAM - 6\",\"18/06/2019\",\"(0115) 9410199\",\"18:24\",\"Served by: LAURIEN GOOD\",\"1404\",\"619 7646 0006 144 *6330************686\",\"\"],\"lineItems\":[{\"qty\":28,\"desc\":\"Nno Nno Int Int Wht Wht Stp Strong 28 2 5.00 NOW\",\"unit\":\"\",\"price\":0.000,\"descClean\":\"Nno Nno Int Int Wht Wht Stp Strong 2 5.00 NOW STUDENT DISCOUNT\",\"lineTotal\":18.750,\"productCode\":\"\"}],\"summaryItems\":[{\"qty\":0,\"desc\":\"TOTAL TO PAY\",\"unit\":\"\",\"price\":0.000,\"descClean\":\"TOTAL TO PAY\",\"lineTotal\":20.460,\"productCode\":\"\"},{\"qty\":0,\"desc\":\"CASH\",\"unit\":\"\",\"price\":0.000,\"descClean\":\"CASH\",\"lineTotal\":50.500,\"productCode\":\"\"},{\"qty\":0,\"desc\":\"CHANGE\",\"unit\":\"\",\"price\":0.000,\"descClean\":\"CHANGE\",\"lineTotal\":30.040,\"productCode\":\"\"}]}}</td>\n",
       "    </tr>\n",
       "    <tr>\n",
       "      <th>3</th>\n",
       "      <td>Selfridges</td>\n",
       "      <td>{\"message\":\"SUCCESS: Result available\",\"status\":\"done\",\"status_code\":3,\"token\":null,\"success\":true,\"code\":202,\"duplicate\":false,\"duplicateToken\":null,\"result\":{\"establishment\":\"Selfridges\",\"validatedEstablishment\":false,\"date\":\"2019-06-01 20:48:00\",\"total\":370.000,\"url\":\"www.selfridges.com\",\"phoneNumber\":\"+44 (0) 207 160 62\",\"paymentMethod\":\"ALIPAY\",\"address\":\"400 Oxford Street London W1A 1AB\",\"validatedTotal\":false,\"subTotal\":0.000,\"validatedSubTotal\":false,\"cash\":\"0.000\",\"change\":\"0.000\",\"tax\":0.000,\"discount\":0.000,\"subTotalConfidence\":0.0,\"totalConfidence\":0.0,\"cashConfidence\":0.0,\"changeConfidence\":0.0,\"roundingConfidence\":0.0,\"otherData\":[\"SELFRIDGES&amp;Cº\",\"400 Oxford Street London W1A 1AB\",\"Freephone 0800 123 400\",\"( From overseas +44 (0) 207 160 6222)\",\"V.A.T NO. GB 705 3259 52\",\"www.selfridges.com\",\"You were served by: Mikel\",\"Chanel RTW &amp; Accs\",\"1 @ f370.00\",\"CAR\",\"Notified terms and conditions will apply\",\"For details visit selfridges.com/london\",\"****************************** ************\",\"We have a passion for what we do and\",\"want you to have an amazing experience\",\"every time you come to Selfridges.\",\"*****************************************\",\"Loteborhoomorpbtitles 298 espela\",\"Shop online at www.selfridges.com\",\"You are welcome to exchange or refund\",\"your purchase by Sat 29 Jun 2019\",\"Please note Sale items\",\"can only be exchanged\",\"-\",\"-\",\"Term 0250 Opr 9999979506 Trans 3919\",\"Store 009999 Date 01/06/19 20:48\",\"00999902503919190601204713\",\"mellogu\",\"erot new uovi\",\"\"],\"lineItems\":[{\"qty\":1,\"desc\":\"1 @ f370.00\",\"unit\":\"\",\"price\":0.000,\"descClean\":\"f370.00\",\"lineTotal\":370.000,\"productCode\":\"\"},{\"qty\":1,\"desc\":\"Alipay READVICE\",\"unit\":\"\",\"price\":0.000,\"descClean\":\"- - Total Item READVICE f370.00 Alipay READVICE\",\"lineTotal\":370.000,\"productCode\":\"\"}],\"summaryItems\":[]}}</td>\n",
       "    </tr>\n",
       "    <tr>\n",
       "      <th>4</th>\n",
       "      <td>John Lewis</td>\n",
       "      <td>{\"message\":\"SUCCESS: Result available\",\"status\":\"done\",\"status_code\":3,\"token\":null,\"success\":true,\"code\":202,\"duplicate\":false,\"duplicateToken\":null,\"result\":{\"establishment\":\"John Lewis\",\"validatedEstablishment\":false,\"date\":\"2019-06-16 14:02:00\",\"total\":26.940,\"url\":\"www.johnlewis.com/customer\",\"phoneNumber\":\"0114 276 8511\",\"paymentMethod\":\"\",\"address\":\", SS1 2HB\",\"validatedTotal\":false,\"subTotal\":26.940,\"validatedSubTotal\":true,\"cash\":\"3.060\",\"change\":\"0.000\",\"tax\":4.490,\"discount\":0.000,\"subTotalConfidence\":0.0,\"totalConfidence\":0.6,\"cashConfidence\":0.6,\"changeConfidence\":0.0,\"roundingConfidence\":0.0,\"otherData\":[],\"lineItems\":[{\"qty\":0,\"desc\":\"S 73220442 Construction Toy\",\"unit\":\"\",\"price\":0.000,\"descClean\":\"S Construction Toy\",\"lineTotal\":8.970,\"productCode\":\"73220442\"},{\"qty\":2,\"desc\":\"S 73220446 Construction Toy\",\"unit\":\"\",\"price\":0.000,\"descClean\":\"S Construction Toy No.items\",\"lineTotal\":17.970,\"productCode\":\"73220446\"}],\"summaryItems\":[{\"qty\":0,\"desc\":\"Total\",\"unit\":\"\",\"price\":0.000,\"descClean\":\"Total\",\"lineTotal\":26.940,\"productCode\":\"\"},{\"qty\":0,\"desc\":\"Cash\",\"unit\":\"\",\"price\":0.000,\"descClean\":\"Cash\",\"lineTotal\":30.000,\"productCode\":\"\"},{\"qty\":0,\"desc\":\"Cash\",\"unit\":\"\",\"price\":0.000,\"descClean\":\"Cash\",\"lineTotal\":3.060,\"productCode\":\"\"},{\"qty\":5,\"desc\":\"S 20.0% 26.94 4.49\",\"unit\":\"\",\"price\":4.490,\"descClean\":\"S 20.0% 26.94\",\"lineTotal\":22.450,\"productCode\":\"\"}]}}</td>\n",
       "    </tr>\n",
       "  </tbody>\n",
       "</table>\n",
       "</div>"
      ],
      "text/plain": [
       "  retailerName  \\\n",
       "0   Selfridges   \n",
       "1      Harrods   \n",
       "2        Boots   \n",
       "3   Selfridges   \n",
       "4   John Lewis   \n",
       "\n",
       "                                                                                                                                                                                                                                                                                                                                                                                                                                                                                                                                                                                                                                                                                                                                                                                                                                                                                                                                                                                                                                                                                                                                                                                                                                                                                                                                                                                                                                                                                                                                                                                                                                                                                                                                                                                                                                                                                     rawData  \n",
       "0                                                                                                                                                                                                                                                                                                                                                                                                                                                   {\"message\":\"SUCCESS: Result available\",\"status\":\"done\",\"status_code\":3,\"token\":null,\"success\":true,\"code\":202,\"duplicate\":false,\"duplicateToken\":null,\"result\":{\"establishment\":\"Selfridges\",\"validatedEstablishment\":false,\"date\":\"2019-06-14 18:20:00\",\"total\":30.000,\"url\":\"www.selfridges.com\",\"phoneNumber\":\"8569 4004156\",\"paymentMethod\":\"VISA\",\"address\":\"400 Oxford Street London W1A 1AB\",\"validatedTotal\":false,\"subTotal\":30.000,\"validatedSubTotal\":true,\"cash\":\"0.000\",\"change\":\"0.000\",\"tax\":0.000,\"discount\":0.000,\"subTotalConfidence\":0.99,\"totalConfidence\":0.7,\"cashConfidence\":0.0,\"changeConfidence\":0.0,\"roundingConfidence\":0.0,\"otherData\":[],\"lineItems\":[{\"qty\":0,\"desc\":\"FULTON BROLLYMA41568569 400415685692\",\"unit\":\"\",\"price\":0.000,\"descClean\":\"You 193 were served by : Ines FULTON BROLLYMA 400415685692\",\"lineTotal\":18.000,\"productCode\":\"41568569\"},{\"qty\":0,\"desc\":\"JJ DOT HYDR - TRA 82401412\",\"unit\":\"\",\"price\":0.000,\"descClean\":\"JJ DOT HYDR - TRA\",\"lineTotal\":12.000,\"productCode\":\"82401412\"}],\"summaryItems\":[{\"qty\":2,\"desc\":\"Total 2 Items\",\"unit\":\"\",\"price\":0.000,\"descClean\":\"Total Items\",\"lineTotal\":30.000,\"productCode\":\"\"},{\"qty\":0,\"desc\":\"Visa\",\"unit\":\"\",\"price\":0.000,\"descClean\":\"Visa\",\"lineTotal\":30.000,\"productCode\":\"\"},{\"qty\":14,\"desc\":\"009999 Date 14 / 06 / 19\",\"unit\":\"\",\"price\":0.000,\"descClean\":\"Date / 06 / 19\",\"lineTotal\":18.200,\"productCode\":\"009999\"}]}}  \n",
       "1                                                                                                                                                                                                                                                                                                                                                                                                                                                                                                {\"message\":\"SUCCESS: Result available\",\"status\":\"done\",\"status_code\":3,\"token\":null,\"success\":true,\"code\":202,\"duplicate\":false,\"duplicateToken\":null,\"result\":{\"establishment\":\"Harrods\",\"validatedEstablishment\":false,\"date\":\"2019-06-19 13:24:00\",\"total\":86.000,\"url\":\"harrods.com\",\"phoneNumber\":\"020 7730 1234\",\"paymentMethod\":\"\",\"address\":\"LONDON S1 ot Road\",\"validatedTotal\":false,\"subTotal\":86.000,\"validatedSubTotal\":true,\"cash\":\"0.000\",\"change\":\"0.000\",\"tax\":0.000,\"discount\":0.000,\"subTotalConfidence\":0.6,\"totalConfidence\":0.0,\"cashConfidence\":0.0,\"changeConfidence\":0.0,\"roundingConfidence\":0.0,\"otherData\":[],\"lineItems\":[{\"qty\":0,\"desc\":\"Rewards 0005708615 Saving FRAGRANCE\",\"unit\":\"\",\"price\":0.000,\"descClean\":\"Rewards Saving FRAGRANCE f8.60\",\"lineTotal\":86.000,\"productCode\":\"0005708615\"}],\"summaryItems\":[{\"qty\":0,\"desc\":\"Sub Total\",\"unit\":\"\",\"price\":0.000,\"descClean\":\"Sub Total\",\"lineTotal\":86.000,\"productCode\":\"\"},{\"qty\":1,\"desc\":\"TOTAL ( 1 item )\",\"unit\":\"\",\"price\":0.000,\"descClean\":\"TOTAL ( item )\",\"lineTotal\":77.400,\"productCode\":\"\"},{\"qty\":0,\"desc\":\"Chinese Mobile Tendered\",\"unit\":\"\",\"price\":0.000,\"descClean\":\"Chinese Mobile Tendered\",\"lineTotal\":77.400,\"productCode\":\"\"},{\"qty\":0,\"desc\":\"Rewards Points balance\",\"unit\":\"\",\"price\":0.000,\"descClean\":\"Rewards Points balance\",\"lineTotal\":194.800,\"productCode\":\"\"}]}}  \n",
       "2                                                                                                                                                                                                                                                                                                                                                                                                                                                                                                                         {\"message\":\"SUCCESS: Result available\",\"status\":\"done\",\"status_code\":3,\"token\":null,\"success\":true,\"code\":202,\"duplicate\":false,\"duplicateToken\":null,\"result\":{\"establishment\":\"Boots\",\"validatedEstablishment\":false,\"date\":\"2019-06-18 18:24:00\",\"total\":20.460,\"url\":\"\",\"phoneNumber\":\"(0115) 9410199\",\"paymentMethod\":\"\",\"address\":\"\",\"validatedTotal\":true,\"subTotal\":0.000,\"validatedSubTotal\":false,\"cash\":\"50.500\",\"change\":\"30.040\",\"tax\":0.000,\"discount\":0.000,\"subTotalConfidence\":0.0,\"totalConfidence\":0.99,\"cashConfidence\":0.99,\"changeConfidence\":0.99,\"roundingConfidence\":0.0,\"otherData\":[\"f\",\"Boots UK Limited\",\"NOTTINGHAM - 6\",\"18/06/2019\",\"(0115) 9410199\",\"18:24\",\"Served by: LAURIEN GOOD\",\"1404\",\"619 7646 0006 144 *6330************686\",\"\"],\"lineItems\":[{\"qty\":28,\"desc\":\"Nno Nno Int Int Wht Wht Stp Strong 28 2 5.00 NOW\",\"unit\":\"\",\"price\":0.000,\"descClean\":\"Nno Nno Int Int Wht Wht Stp Strong 2 5.00 NOW STUDENT DISCOUNT\",\"lineTotal\":18.750,\"productCode\":\"\"}],\"summaryItems\":[{\"qty\":0,\"desc\":\"TOTAL TO PAY\",\"unit\":\"\",\"price\":0.000,\"descClean\":\"TOTAL TO PAY\",\"lineTotal\":20.460,\"productCode\":\"\"},{\"qty\":0,\"desc\":\"CASH\",\"unit\":\"\",\"price\":0.000,\"descClean\":\"CASH\",\"lineTotal\":50.500,\"productCode\":\"\"},{\"qty\":0,\"desc\":\"CHANGE\",\"unit\":\"\",\"price\":0.000,\"descClean\":\"CHANGE\",\"lineTotal\":30.040,\"productCode\":\"\"}]}}  \n",
       "3  {\"message\":\"SUCCESS: Result available\",\"status\":\"done\",\"status_code\":3,\"token\":null,\"success\":true,\"code\":202,\"duplicate\":false,\"duplicateToken\":null,\"result\":{\"establishment\":\"Selfridges\",\"validatedEstablishment\":false,\"date\":\"2019-06-01 20:48:00\",\"total\":370.000,\"url\":\"www.selfridges.com\",\"phoneNumber\":\"+44 (0) 207 160 62\",\"paymentMethod\":\"ALIPAY\",\"address\":\"400 Oxford Street London W1A 1AB\",\"validatedTotal\":false,\"subTotal\":0.000,\"validatedSubTotal\":false,\"cash\":\"0.000\",\"change\":\"0.000\",\"tax\":0.000,\"discount\":0.000,\"subTotalConfidence\":0.0,\"totalConfidence\":0.0,\"cashConfidence\":0.0,\"changeConfidence\":0.0,\"roundingConfidence\":0.0,\"otherData\":[\"SELFRIDGES&Cº\",\"400 Oxford Street London W1A 1AB\",\"Freephone 0800 123 400\",\"( From overseas +44 (0) 207 160 6222)\",\"V.A.T NO. GB 705 3259 52\",\"www.selfridges.com\",\"You were served by: Mikel\",\"Chanel RTW & Accs\",\"1 @ f370.00\",\"CAR\",\"Notified terms and conditions will apply\",\"For details visit selfridges.com/london\",\"****************************** ************\",\"We have a passion for what we do and\",\"want you to have an amazing experience\",\"every time you come to Selfridges.\",\"*****************************************\",\"Loteborhoomorpbtitles 298 espela\",\"Shop online at www.selfridges.com\",\"You are welcome to exchange or refund\",\"your purchase by Sat 29 Jun 2019\",\"Please note Sale items\",\"can only be exchanged\",\"-\",\"-\",\"Term 0250 Opr 9999979506 Trans 3919\",\"Store 009999 Date 01/06/19 20:48\",\"00999902503919190601204713\",\"mellogu\",\"erot new uovi\",\"\"],\"lineItems\":[{\"qty\":1,\"desc\":\"1 @ f370.00\",\"unit\":\"\",\"price\":0.000,\"descClean\":\"f370.00\",\"lineTotal\":370.000,\"productCode\":\"\"},{\"qty\":1,\"desc\":\"Alipay READVICE\",\"unit\":\"\",\"price\":0.000,\"descClean\":\"- - Total Item READVICE f370.00 Alipay READVICE\",\"lineTotal\":370.000,\"productCode\":\"\"}],\"summaryItems\":[]}}  \n",
       "4                                                                                                                                                                                                                                                                                                                                                                                                                                   {\"message\":\"SUCCESS: Result available\",\"status\":\"done\",\"status_code\":3,\"token\":null,\"success\":true,\"code\":202,\"duplicate\":false,\"duplicateToken\":null,\"result\":{\"establishment\":\"John Lewis\",\"validatedEstablishment\":false,\"date\":\"2019-06-16 14:02:00\",\"total\":26.940,\"url\":\"www.johnlewis.com/customer\",\"phoneNumber\":\"0114 276 8511\",\"paymentMethod\":\"\",\"address\":\", SS1 2HB\",\"validatedTotal\":false,\"subTotal\":26.940,\"validatedSubTotal\":true,\"cash\":\"3.060\",\"change\":\"0.000\",\"tax\":4.490,\"discount\":0.000,\"subTotalConfidence\":0.0,\"totalConfidence\":0.6,\"cashConfidence\":0.6,\"changeConfidence\":0.0,\"roundingConfidence\":0.0,\"otherData\":[],\"lineItems\":[{\"qty\":0,\"desc\":\"S 73220442 Construction Toy\",\"unit\":\"\",\"price\":0.000,\"descClean\":\"S Construction Toy\",\"lineTotal\":8.970,\"productCode\":\"73220442\"},{\"qty\":2,\"desc\":\"S 73220446 Construction Toy\",\"unit\":\"\",\"price\":0.000,\"descClean\":\"S Construction Toy No.items\",\"lineTotal\":17.970,\"productCode\":\"73220446\"}],\"summaryItems\":[{\"qty\":0,\"desc\":\"Total\",\"unit\":\"\",\"price\":0.000,\"descClean\":\"Total\",\"lineTotal\":26.940,\"productCode\":\"\"},{\"qty\":0,\"desc\":\"Cash\",\"unit\":\"\",\"price\":0.000,\"descClean\":\"Cash\",\"lineTotal\":30.000,\"productCode\":\"\"},{\"qty\":0,\"desc\":\"Cash\",\"unit\":\"\",\"price\":0.000,\"descClean\":\"Cash\",\"lineTotal\":3.060,\"productCode\":\"\"},{\"qty\":5,\"desc\":\"S 20.0% 26.94 4.49\",\"unit\":\"\",\"price\":4.490,\"descClean\":\"S 20.0% 26.94\",\"lineTotal\":22.450,\"productCode\":\"\"}]}}  "
      ]
     },
     "execution_count": 12,
     "metadata": {},
     "output_type": "execute_result"
    }
   ],
   "source": [
    "# drop rows with empty or not string rawData \n",
    "dfc = df[df.rawData.apply(lambda x: isinstance(x, str))]\n",
    "dfc.head(5)"
   ]
  },
  {
   "cell_type": "code",
   "execution_count": 13,
   "metadata": {},
   "outputs": [
    {
     "data": {
      "text/html": [
       "<div>\n",
       "<style scoped>\n",
       "    .dataframe tbody tr th:only-of-type {\n",
       "        vertical-align: middle;\n",
       "    }\n",
       "\n",
       "    .dataframe tbody tr th {\n",
       "        vertical-align: top;\n",
       "    }\n",
       "\n",
       "    .dataframe thead th {\n",
       "        text-align: right;\n",
       "    }\n",
       "</style>\n",
       "<table border=\"1\" class=\"dataframe\">\n",
       "  <thead>\n",
       "    <tr style=\"text-align: right;\">\n",
       "      <th></th>\n",
       "      <th>message</th>\n",
       "      <th>status</th>\n",
       "      <th>status_code</th>\n",
       "      <th>token</th>\n",
       "      <th>success</th>\n",
       "      <th>code</th>\n",
       "      <th>duplicate</th>\n",
       "      <th>duplicateToken</th>\n",
       "      <th>result</th>\n",
       "    </tr>\n",
       "  </thead>\n",
       "  <tbody>\n",
       "    <tr>\n",
       "      <th>0</th>\n",
       "      <td>SUCCESS: Result available</td>\n",
       "      <td>done</td>\n",
       "      <td>3</td>\n",
       "      <td>None</td>\n",
       "      <td>True</td>\n",
       "      <td>202</td>\n",
       "      <td>False</td>\n",
       "      <td>None</td>\n",
       "      <td>{'establishment': 'Selfridges', 'validatedEstablishment': False, 'date': '2019-06-14 18:20:00', 'total': 30.0, 'url': 'www.selfridges.com', 'phoneNumber': '8569 4004156', 'paymentMethod': 'VISA', 'address': '400 Oxford Street London W1A 1AB', 'validatedTotal': False, 'subTotal': 30.0, 'validatedSubTotal': True, 'cash': '0.000', 'change': '0.000', 'tax': 0.0, 'discount': 0.0, 'subTotalConfidence': 0.99, 'totalConfidence': 0.7, 'cashConfidence': 0.0, 'changeConfidence': 0.0, 'roundingConfidence': 0.0, 'otherData': [], 'lineItems': [{'qty': 0, 'desc': 'FULTON BROLLYMA41568569 400415685692', 'unit': '', 'price': 0.0, 'descClean': 'You 193 were served by : Ines FULTON BROLLYMA 400415685692', 'lineTotal': 18.0, 'productCode': '41568569'}, {'qty': 0, 'desc': 'JJ DOT HYDR - TRA 82401412', 'unit': '', 'price': 0.0, 'descClean': 'JJ DOT HYDR - TRA', 'lineTotal': 12.0, 'productCode': '82401412'}], 'summaryItems': [{'qty': 2, 'desc': 'Total 2 Items', 'unit': '', 'price': 0.0, 'descClean': 'Total Items', 'lineTotal': 30.0, 'productCode': ''}, {'qty': 0, 'desc': 'Visa', 'unit': '', 'price': 0.0, 'descClean': 'Visa', 'lineTotal': 30.0, 'productCode': ''}, {'qty': 14, 'desc': '009999 Date 14 / 06 / 19', 'unit': '', 'price': 0.0, 'descClean': 'Date / 06 / 19', 'lineTotal': 18.2, 'productCode': '009999'}]}</td>\n",
       "    </tr>\n",
       "    <tr>\n",
       "      <th>1</th>\n",
       "      <td>SUCCESS: Result available</td>\n",
       "      <td>done</td>\n",
       "      <td>3</td>\n",
       "      <td>None</td>\n",
       "      <td>True</td>\n",
       "      <td>202</td>\n",
       "      <td>False</td>\n",
       "      <td>None</td>\n",
       "      <td>{'establishment': 'Harrods', 'validatedEstablishment': False, 'date': '2019-06-19 13:24:00', 'total': 86.0, 'url': 'harrods.com', 'phoneNumber': '020 7730 1234', 'paymentMethod': '', 'address': 'LONDON S1 ot Road', 'validatedTotal': False, 'subTotal': 86.0, 'validatedSubTotal': True, 'cash': '0.000', 'change': '0.000', 'tax': 0.0, 'discount': 0.0, 'subTotalConfidence': 0.6, 'totalConfidence': 0.0, 'cashConfidence': 0.0, 'changeConfidence': 0.0, 'roundingConfidence': 0.0, 'otherData': [], 'lineItems': [{'qty': 0, 'desc': 'Rewards 0005708615 Saving FRAGRANCE', 'unit': '', 'price': 0.0, 'descClean': 'Rewards Saving FRAGRANCE f8.60', 'lineTotal': 86.0, 'productCode': '0005708615'}], 'summaryItems': [{'qty': 0, 'desc': 'Sub Total', 'unit': '', 'price': 0.0, 'descClean': 'Sub Total', 'lineTotal': 86.0, 'productCode': ''}, {'qty': 1, 'desc': 'TOTAL ( 1 item )', 'unit': '', 'price': 0.0, 'descClean': 'TOTAL ( item )', 'lineTotal': 77.4, 'productCode': ''}, {'qty': 0, 'desc': 'Chinese Mobile Tendered', 'unit': '', 'price': 0.0, 'descClean': 'Chinese Mobile Tendered', 'lineTotal': 77.4, 'productCode': ''}, {'qty': 0, 'desc': 'Rewards Points balance', 'unit': '', 'price': 0.0, 'descClean': 'Rewards Points balance', 'lineTotal': 194.8, 'productCode': ''}]}</td>\n",
       "    </tr>\n",
       "  </tbody>\n",
       "</table>\n",
       "</div>"
      ],
      "text/plain": [
       "                     message status  status_code token  success  code  \\\n",
       "0  SUCCESS: Result available   done            3  None     True   202   \n",
       "1  SUCCESS: Result available   done            3  None     True   202   \n",
       "\n",
       "   duplicate duplicateToken  \\\n",
       "0      False           None   \n",
       "1      False           None   \n",
       "\n",
       "                                                                                                                                                                                                                                                                                                                                                                                                                                                                                                                                                                                                                                                                                                                                                                                                                                                                                                                                                                                                                                                                                                                                                                                                                                                                                                                                                          result  \n",
       "0  {'establishment': 'Selfridges', 'validatedEstablishment': False, 'date': '2019-06-14 18:20:00', 'total': 30.0, 'url': 'www.selfridges.com', 'phoneNumber': '8569 4004156', 'paymentMethod': 'VISA', 'address': '400 Oxford Street London W1A 1AB', 'validatedTotal': False, 'subTotal': 30.0, 'validatedSubTotal': True, 'cash': '0.000', 'change': '0.000', 'tax': 0.0, 'discount': 0.0, 'subTotalConfidence': 0.99, 'totalConfidence': 0.7, 'cashConfidence': 0.0, 'changeConfidence': 0.0, 'roundingConfidence': 0.0, 'otherData': [], 'lineItems': [{'qty': 0, 'desc': 'FULTON BROLLYMA41568569 400415685692', 'unit': '', 'price': 0.0, 'descClean': 'You 193 were served by : Ines FULTON BROLLYMA 400415685692', 'lineTotal': 18.0, 'productCode': '41568569'}, {'qty': 0, 'desc': 'JJ DOT HYDR - TRA 82401412', 'unit': '', 'price': 0.0, 'descClean': 'JJ DOT HYDR - TRA', 'lineTotal': 12.0, 'productCode': '82401412'}], 'summaryItems': [{'qty': 2, 'desc': 'Total 2 Items', 'unit': '', 'price': 0.0, 'descClean': 'Total Items', 'lineTotal': 30.0, 'productCode': ''}, {'qty': 0, 'desc': 'Visa', 'unit': '', 'price': 0.0, 'descClean': 'Visa', 'lineTotal': 30.0, 'productCode': ''}, {'qty': 14, 'desc': '009999 Date 14 / 06 / 19', 'unit': '', 'price': 0.0, 'descClean': 'Date / 06 / 19', 'lineTotal': 18.2, 'productCode': '009999'}]}  \n",
       "1                                               {'establishment': 'Harrods', 'validatedEstablishment': False, 'date': '2019-06-19 13:24:00', 'total': 86.0, 'url': 'harrods.com', 'phoneNumber': '020 7730 1234', 'paymentMethod': '', 'address': 'LONDON S1 ot Road', 'validatedTotal': False, 'subTotal': 86.0, 'validatedSubTotal': True, 'cash': '0.000', 'change': '0.000', 'tax': 0.0, 'discount': 0.0, 'subTotalConfidence': 0.6, 'totalConfidence': 0.0, 'cashConfidence': 0.0, 'changeConfidence': 0.0, 'roundingConfidence': 0.0, 'otherData': [], 'lineItems': [{'qty': 0, 'desc': 'Rewards 0005708615 Saving FRAGRANCE', 'unit': '', 'price': 0.0, 'descClean': 'Rewards Saving FRAGRANCE f8.60', 'lineTotal': 86.0, 'productCode': '0005708615'}], 'summaryItems': [{'qty': 0, 'desc': 'Sub Total', 'unit': '', 'price': 0.0, 'descClean': 'Sub Total', 'lineTotal': 86.0, 'productCode': ''}, {'qty': 1, 'desc': 'TOTAL ( 1 item )', 'unit': '', 'price': 0.0, 'descClean': 'TOTAL ( item )', 'lineTotal': 77.4, 'productCode': ''}, {'qty': 0, 'desc': 'Chinese Mobile Tendered', 'unit': '', 'price': 0.0, 'descClean': 'Chinese Mobile Tendered', 'lineTotal': 77.4, 'productCode': ''}, {'qty': 0, 'desc': 'Rewards Points balance', 'unit': '', 'price': 0.0, 'descClean': 'Rewards Points balance', 'lineTotal': 194.8, 'productCode': ''}]}  "
      ]
     },
     "execution_count": 13,
     "metadata": {},
     "output_type": "execute_result"
    }
   ],
   "source": [
    "rawData = dfc.rawData\n",
    "parsedRawData = rawData.apply(json.loads).apply(pd.Series)\n",
    "parsedRawData.head(2)"
   ]
  },
  {
   "cell_type": "code",
   "execution_count": 14,
   "metadata": {},
   "outputs": [],
   "source": [
    "joined = df.join(parsedRawData)\n",
    "data = joined.filter(['retailerName', 'result'])"
   ]
  },
  {
   "cell_type": "code",
   "execution_count": 15,
   "metadata": {
    "pycharm": {
     "is_executing": false
    }
   },
   "outputs": [
    {
     "data": {
      "text/html": [
       "<div>\n",
       "<style scoped>\n",
       "    .dataframe tbody tr th:only-of-type {\n",
       "        vertical-align: middle;\n",
       "    }\n",
       "\n",
       "    .dataframe tbody tr th {\n",
       "        vertical-align: top;\n",
       "    }\n",
       "\n",
       "    .dataframe thead th {\n",
       "        text-align: right;\n",
       "    }\n",
       "</style>\n",
       "<table border=\"1\" class=\"dataframe\">\n",
       "  <thead>\n",
       "    <tr style=\"text-align: right;\">\n",
       "      <th></th>\n",
       "      <th>establishment</th>\n",
       "      <th>retailerName</th>\n",
       "    </tr>\n",
       "  </thead>\n",
       "  <tbody>\n",
       "    <tr>\n",
       "      <th>0</th>\n",
       "      <td>Selfridges</td>\n",
       "      <td>Selfridges</td>\n",
       "    </tr>\n",
       "    <tr>\n",
       "      <th>1</th>\n",
       "      <td>Harrods</td>\n",
       "      <td>Harrods</td>\n",
       "    </tr>\n",
       "    <tr>\n",
       "      <th>2</th>\n",
       "      <td>Boots</td>\n",
       "      <td>Boots</td>\n",
       "    </tr>\n",
       "    <tr>\n",
       "      <th>3</th>\n",
       "      <td>Selfridges</td>\n",
       "      <td>Selfridges</td>\n",
       "    </tr>\n",
       "    <tr>\n",
       "      <th>4</th>\n",
       "      <td>John Lewis</td>\n",
       "      <td>John Lewis</td>\n",
       "    </tr>\n",
       "  </tbody>\n",
       "</table>\n",
       "</div>"
      ],
      "text/plain": [
       "  establishment retailerName\n",
       "0    Selfridges   Selfridges\n",
       "1       Harrods      Harrods\n",
       "2         Boots        Boots\n",
       "3    Selfridges   Selfridges\n",
       "4    John Lewis   John Lewis"
      ]
     },
     "execution_count": 15,
     "metadata": {},
     "output_type": "execute_result"
    }
   ],
   "source": [
    "# parse json result field and add columns to dataframe\n",
    "parsedResult = data.result.apply(pd.Series)\n",
    "joined = df.join(parsedResult)\n",
    "\n",
    "# filter so that we get only features and labels to train the model\n",
    "data = joined.filter(['establishment', 'retailerName'])\n",
    "data.head(5)"
   ]
  },
  {
   "cell_type": "code",
   "execution_count": 16,
   "metadata": {},
   "outputs": [
    {
     "data": {
      "text/html": [
       "<div>\n",
       "<style scoped>\n",
       "    .dataframe tbody tr th:only-of-type {\n",
       "        vertical-align: middle;\n",
       "    }\n",
       "\n",
       "    .dataframe tbody tr th {\n",
       "        vertical-align: top;\n",
       "    }\n",
       "\n",
       "    .dataframe thead th {\n",
       "        text-align: right;\n",
       "    }\n",
       "</style>\n",
       "<table border=\"1\" class=\"dataframe\">\n",
       "  <thead>\n",
       "    <tr style=\"text-align: right;\">\n",
       "      <th></th>\n",
       "      <th>establishment</th>\n",
       "      <th>retailerName</th>\n",
       "    </tr>\n",
       "  </thead>\n",
       "  <tbody>\n",
       "    <tr>\n",
       "      <th>685</th>\n",
       "      <td>NaN</td>\n",
       "      <td>Boots</td>\n",
       "    </tr>\n",
       "    <tr>\n",
       "      <th>1326</th>\n",
       "      <td>NaN</td>\n",
       "      <td>Boots</td>\n",
       "    </tr>\n",
       "  </tbody>\n",
       "</table>\n",
       "</div>"
      ],
      "text/plain": [
       "     establishment retailerName\n",
       "685            NaN        Boots\n",
       "1326           NaN        Boots"
      ]
     },
     "execution_count": 16,
     "metadata": {},
     "output_type": "execute_result"
    }
   ],
   "source": [
    "ignore = data[data.establishment.apply(lambda x: not isinstance(x, str))]\n",
    "ignore.head(2)"
   ]
  },
  {
   "cell_type": "code",
   "execution_count": 17,
   "metadata": {},
   "outputs": [
    {
     "data": {
      "text/html": [
       "<div>\n",
       "<style scoped>\n",
       "    .dataframe tbody tr th:only-of-type {\n",
       "        vertical-align: middle;\n",
       "    }\n",
       "\n",
       "    .dataframe tbody tr th {\n",
       "        vertical-align: top;\n",
       "    }\n",
       "\n",
       "    .dataframe thead th {\n",
       "        text-align: right;\n",
       "    }\n",
       "</style>\n",
       "<table border=\"1\" class=\"dataframe\">\n",
       "  <thead>\n",
       "    <tr style=\"text-align: right;\">\n",
       "      <th></th>\n",
       "      <th>establishment</th>\n",
       "      <th>retailerName</th>\n",
       "    </tr>\n",
       "  </thead>\n",
       "  <tbody>\n",
       "  </tbody>\n",
       "</table>\n",
       "</div>"
      ],
      "text/plain": [
       "Empty DataFrame\n",
       "Columns: [establishment, retailerName]\n",
       "Index: []"
      ]
     },
     "execution_count": 17,
     "metadata": {},
     "output_type": "execute_result"
    }
   ],
   "source": [
    "ignore = data[data.retailerName.apply(lambda x: not isinstance(x, str))]\n",
    "ignore.head(2)"
   ]
  },
  {
   "cell_type": "code",
   "execution_count": 18,
   "metadata": {
    "pycharm": {
     "is_executing": false
    }
   },
   "outputs": [
    {
     "data": {
      "text/html": [
       "<div>\n",
       "<style scoped>\n",
       "    .dataframe tbody tr th:only-of-type {\n",
       "        vertical-align: middle;\n",
       "    }\n",
       "\n",
       "    .dataframe tbody tr th {\n",
       "        vertical-align: top;\n",
       "    }\n",
       "\n",
       "    .dataframe thead th {\n",
       "        text-align: right;\n",
       "    }\n",
       "</style>\n",
       "<table border=\"1\" class=\"dataframe\">\n",
       "  <thead>\n",
       "    <tr style=\"text-align: right;\">\n",
       "      <th></th>\n",
       "      <th>establishment</th>\n",
       "      <th>retailerName</th>\n",
       "    </tr>\n",
       "  </thead>\n",
       "  <tbody>\n",
       "    <tr>\n",
       "      <th>0</th>\n",
       "      <td>Selfridges</td>\n",
       "      <td>Selfridges</td>\n",
       "    </tr>\n",
       "    <tr>\n",
       "      <th>1</th>\n",
       "      <td>Harrods</td>\n",
       "      <td>Harrods</td>\n",
       "    </tr>\n",
       "    <tr>\n",
       "      <th>2</th>\n",
       "      <td>Boots</td>\n",
       "      <td>Boots</td>\n",
       "    </tr>\n",
       "    <tr>\n",
       "      <th>3</th>\n",
       "      <td>Selfridges</td>\n",
       "      <td>Selfridges</td>\n",
       "    </tr>\n",
       "    <tr>\n",
       "      <th>4</th>\n",
       "      <td>John Lewis</td>\n",
       "      <td>John Lewis</td>\n",
       "    </tr>\n",
       "    <tr>\n",
       "      <th>5</th>\n",
       "      <td>Selfridges</td>\n",
       "      <td>Selfridges</td>\n",
       "    </tr>\n",
       "    <tr>\n",
       "      <th>6</th>\n",
       "      <td>HOLLAND &amp; BARRETT</td>\n",
       "      <td>Holland &amp; Barrett</td>\n",
       "    </tr>\n",
       "    <tr>\n",
       "      <th>7</th>\n",
       "      <td>Selfridges</td>\n",
       "      <td>Selfridges</td>\n",
       "    </tr>\n",
       "    <tr>\n",
       "      <th>8</th>\n",
       "      <td>Selfridges</td>\n",
       "      <td>Selfridges</td>\n",
       "    </tr>\n",
       "    <tr>\n",
       "      <th>9</th>\n",
       "      <td>John Lewis</td>\n",
       "      <td>John Lewis</td>\n",
       "    </tr>\n",
       "  </tbody>\n",
       "</table>\n",
       "</div>"
      ],
      "text/plain": [
       "       establishment       retailerName\n",
       "0         Selfridges         Selfridges\n",
       "1            Harrods            Harrods\n",
       "2              Boots              Boots\n",
       "3         Selfridges         Selfridges\n",
       "4         John Lewis         John Lewis\n",
       "5         Selfridges         Selfridges\n",
       "6  HOLLAND & BARRETT  Holland & Barrett\n",
       "7         Selfridges         Selfridges\n",
       "8         Selfridges         Selfridges\n",
       "9         John Lewis         John Lewis"
      ]
     },
     "execution_count": 18,
     "metadata": {},
     "output_type": "execute_result"
    }
   ],
   "source": [
    "data = data[data.establishment.apply(lambda x: isinstance(x, str))]\n",
    "# data = data[data.retailerName.apply(lambda x: isinstance(x, str))]\n",
    "data.head(10)"
   ]
  },
  {
   "cell_type": "code",
   "execution_count": 19,
   "metadata": {
    "pycharm": {
     "is_executing": false
    }
   },
   "outputs": [
    {
     "data": {
      "text/plain": [
       "(1397, 5585, 6982)"
      ]
     },
     "execution_count": 19,
     "metadata": {},
     "output_type": "execute_result"
    }
   ],
   "source": [
    "# get train and test dataset\n",
    "train_size = int(len(data) * .8)\n",
    "train_ocr = data['establishment'][:train_size]\n",
    "train_tags = data['retailerName'][:train_size]\n",
    "test_ocr = data['establishment'][train_size:]\n",
    "test_tags = data['retailerName'][train_size:]\n",
    "\n",
    "test_tags.size, train_size, len(data)"
   ]
  },
  {
   "cell_type": "code",
   "execution_count": 20,
   "metadata": {
    "pycharm": {
     "is_executing": false
    }
   },
   "outputs": [
    {
     "data": {
      "text/plain": [
       "0           Selfridges\n",
       "1              Harrods\n",
       "2                Boots\n",
       "3           Selfridges\n",
       "4           John Lewis\n",
       "5           Selfridges\n",
       "6    HOLLAND & BARRETT\n",
       "7           Selfridges\n",
       "8           Selfridges\n",
       "9           John Lewis\n",
       "Name: establishment, dtype: object"
      ]
     },
     "execution_count": 20,
     "metadata": {},
     "output_type": "execute_result"
    }
   ],
   "source": [
    "train_ocr.head(10)"
   ]
  },
  {
   "cell_type": "code",
   "execution_count": 21,
   "metadata": {
    "pycharm": {
     "is_executing": false
    }
   },
   "outputs": [],
   "source": [
    "# use bag of words model\n",
    "max_words = 1000\n",
    "tokenize = text.Tokenizer(num_words=max_words, char_level=False)\n",
    "tokenize.fit_on_texts(train_ocr)"
   ]
  },
  {
   "cell_type": "code",
   "execution_count": 22,
   "metadata": {
    "pycharm": {
     "is_executing": false
    }
   },
   "outputs": [],
   "source": [
    "x_train = tokenize.texts_to_matrix(train_ocr)\n",
    "x_test = tokenize.texts_to_matrix(test_ocr)\n",
    "\n",
    "# x_train[0]"
   ]
  },
  {
   "cell_type": "code",
   "execution_count": 23,
   "metadata": {
    "pycharm": {
     "is_executing": false
    }
   },
   "outputs": [
    {
     "data": {
      "text/plain": [
       "array([1, 6, 5, ..., 2, 5, 5])"
      ]
     },
     "execution_count": 23,
     "metadata": {},
     "output_type": "execute_result"
    }
   ],
   "source": [
    "# Use sklearn utility to convert label strings to numbered index\n",
    "encoder = LabelEncoder()\n",
    "encoder.fit(train_tags)\n",
    "y_train = encoder.transform(train_tags)\n",
    "y_test = encoder.transform(test_tags)\n",
    "\n",
    "y_test"
   ]
  },
  {
   "cell_type": "code",
   "execution_count": 24,
   "metadata": {
    "pycharm": {
     "is_executing": false
    }
   },
   "outputs": [
    {
     "data": {
      "text/plain": [
       "array([[0., 1., 0., ..., 0., 0., 0.],\n",
       "       [0., 0., 0., ..., 0., 0., 1.],\n",
       "       [0., 0., 0., ..., 0., 1., 0.],\n",
       "       ...,\n",
       "       [0., 0., 1., ..., 0., 0., 0.],\n",
       "       [0., 0., 0., ..., 0., 1., 0.],\n",
       "       [0., 0., 0., ..., 0., 1., 0.]], dtype=float32)"
      ]
     },
     "execution_count": 24,
     "metadata": {},
     "output_type": "execute_result"
    }
   ],
   "source": [
    "# Converts the labels to a one-hot representation\n",
    "num_classes = np.max(y_train) + 1\n",
    "y_train_cat = utils.to_categorical(y_train, num_classes)\n",
    "y_test_cat = utils.to_categorical(y_test, num_classes)\n",
    "y_test_cat"
   ]
  },
  {
   "cell_type": "code",
   "execution_count": 25,
   "metadata": {
    "pycharm": {
     "is_executing": false
    }
   },
   "outputs": [
    {
     "name": "stdout",
     "output_type": "stream",
     "text": [
      "x_train shape: (5585, 1000)\n",
      "x_test shape: (1397, 1000)\n",
      "y_train_cat shape: (5585, 7)\n",
      "y_test_cat shape: (1397, 7)\n"
     ]
    }
   ],
   "source": [
    "# Inspect the dimensions of our training and test data (this is helpful to debug)\n",
    "print('x_train shape:', x_train.shape)\n",
    "print('x_test shape:', x_test.shape)\n",
    "print('y_train_cat shape:', y_train_cat.shape)\n",
    "print('y_test_cat shape:', y_test_cat.shape)"
   ]
  },
  {
   "cell_type": "code",
   "execution_count": 26,
   "metadata": {
    "pycharm": {
     "is_executing": false
    }
   },
   "outputs": [],
   "source": [
    "batch_size = 32\n",
    "epochs = 4"
   ]
  },
  {
   "cell_type": "code",
   "execution_count": 27,
   "metadata": {
    "pycharm": {
     "is_executing": false
    }
   },
   "outputs": [
    {
     "name": "stdout",
     "output_type": "stream",
     "text": [
      "WARNING:tensorflow:From /anaconda3/envs/deeplearn/lib/python3.6/site-packages/tensorflow/python/framework/op_def_library.py:263: colocate_with (from tensorflow.python.framework.ops) is deprecated and will be removed in a future version.\n",
      "Instructions for updating:\n",
      "Colocations handled automatically by placer.\n",
      "WARNING:tensorflow:From /anaconda3/envs/deeplearn/lib/python3.6/site-packages/keras/backend/tensorflow_backend.py:3445: calling dropout (from tensorflow.python.ops.nn_ops) with keep_prob is deprecated and will be removed in a future version.\n",
      "Instructions for updating:\n",
      "Please use `rate` instead of `keep_prob`. Rate should be set to `rate = 1 - keep_prob`.\n"
     ]
    }
   ],
   "source": [
    "# Build the model\n",
    "model = Sequential()\n",
    "model.add(Dense(512, input_shape=(max_words,)))\n",
    "model.add(Activation('relu'))\n",
    "model.add(Dropout(0.5))\n",
    "model.add(Dense(num_classes))\n",
    "model.add(Activation('softmax'))\n",
    "model.compile(loss='categorical_crossentropy',\n",
    "              optimizer='adam',\n",
    "              metrics=['accuracy'])"
   ]
  },
  {
   "cell_type": "code",
   "execution_count": 28,
   "metadata": {
    "pycharm": {
     "is_executing": true
    }
   },
   "outputs": [
    {
     "name": "stdout",
     "output_type": "stream",
     "text": [
      "WARNING:tensorflow:From /anaconda3/envs/deeplearn/lib/python3.6/site-packages/tensorflow/python/ops/math_ops.py:3066: to_int32 (from tensorflow.python.ops.math_ops) is deprecated and will be removed in a future version.\n",
      "Instructions for updating:\n",
      "Use tf.cast instead.\n",
      "Train on 5026 samples, validate on 559 samples\n",
      "Epoch 1/4\n",
      "5026/5026 [==============================] - 5s 949us/step - loss: 0.5991 - acc: 0.9357 - val_loss: 0.0805 - val_acc: 0.9821\n",
      "Epoch 2/4\n",
      "5026/5026 [==============================] - 3s 640us/step - loss: 0.0801 - acc: 0.9811 - val_loss: 0.0492 - val_acc: 0.9857\n",
      "Epoch 3/4\n",
      "5026/5026 [==============================] - 3s 657us/step - loss: 0.0478 - acc: 0.9922 - val_loss: 0.0428 - val_acc: 0.9857\n",
      "Epoch 4/4\n",
      "5026/5026 [==============================] - 3s 681us/step - loss: 0.0313 - acc: 0.9966 - val_loss: 0.0422 - val_acc: 0.9857\n"
     ]
    }
   ],
   "source": [
    "# train the model\n",
    "history = model.fit(x_train, y_train_cat,\n",
    "                    batch_size=batch_size,\n",
    "                    epochs=epochs,\n",
    "                    verbose=1,\n",
    "                    validation_split=0.1)"
   ]
  },
  {
   "cell_type": "code",
   "execution_count": 29,
   "metadata": {
    "pycharm": {
     "is_executing": true,
     "name": "#%% \n"
    }
   },
   "outputs": [
    {
     "name": "stdout",
     "output_type": "stream",
     "text": [
      "1397/1397 [==============================] - 0s 111us/step\n",
      "Test accuracy: 97.28%\n"
     ]
    }
   ],
   "source": [
    "# evaluate the accuracy\n",
    "score = model.evaluate(x_test, y_test_cat, batch_size=batch_size, verbose=1)\n",
    "print('Test accuracy: {0:.2f}%'.format(score[1] * 100))"
   ]
  },
  {
   "cell_type": "code",
   "execution_count": 30,
   "metadata": {
    "pycharm": {
     "is_executing": false
    }
   },
   "outputs": [
    {
     "name": "stdout",
     "output_type": "stream",
     "text": [
      "Debelum ...\n",
      "correct:Debenhams\n",
      "predicted: Debenhams\n",
      "\n",
      "TK Maxx ...\n",
      "correct:TK Maxx\n",
      "predicted: TK Maxx\n",
      "\n",
      "Selfridges ...\n",
      "correct:Selfridges\n",
      "predicted: Selfridges\n",
      "\n",
      "JOHN LEWIS ...\n",
      "correct:John Lewis\n",
      "predicted: John Lewis\n",
      "\n",
      "Boots ...\n",
      "correct:Boots\n",
      "predicted: Boots\n",
      "\n",
      "Boots ...\n",
      "correct:Boots\n",
      "predicted: Boots\n",
      "\n",
      "Harrods ...\n",
      "correct:Harrods\n",
      "predicted: Harrods\n",
      "\n",
      "Selfridges ...\n",
      "correct:Selfridges\n",
      "predicted: Selfridges\n",
      "\n",
      "Debenhams ...\n",
      "correct:Debenhams\n",
      "predicted: Debenhams\n",
      "\n",
      "HOLLAND & BARRETT ...\n",
      "correct:Holland & Barrett\n",
      "predicted: Holland & Barrett\n",
      "\n"
     ]
    }
   ],
   "source": [
    "text_labels = encoder.classes_ \n",
    "for i in range(10):\n",
    "    prediction = model.predict(np.array([x_test[i]]))\n",
    "    predicted_label = text_labels[np.argmax(prediction)]\n",
    "    print(test_ocr.iloc[i][:50], \"...\")\n",
    "    print('correct:' + test_tags.iloc[i])\n",
    "    print(\"predicted: \" + predicted_label + \"\\n\")"
   ]
  },
  {
   "cell_type": "code",
   "execution_count": 31,
   "metadata": {},
   "outputs": [
    {
     "data": {
      "text/plain": [
       "array(['Boots', 'Debenhams', 'Harrods', 'Holland & Barrett', 'John Lewis',\n",
       "       'Selfridges', 'TK Maxx'], dtype=object)"
      ]
     },
     "execution_count": 31,
     "metadata": {},
     "output_type": "execute_result"
    }
   ],
   "source": [
    "encoder.classes_"
   ]
  },
  {
   "cell_type": "code",
   "execution_count": 32,
   "metadata": {},
   "outputs": [
    {
     "name": "stdout",
     "output_type": "stream",
     "text": [
      "predict:[[0.02832553 0.01754582 0.00427536 0.02878327 0.01895206 0.0049336\n",
      "  0.8971843 ]]\n",
      "index:6 \n",
      "label:TK Maxx\n"
     ]
    }
   ],
   "source": [
    "encoder.classes_\n",
    "matrix = tokenize.texts_to_matrix(['TK UK'])\n",
    "prediction = model.predict(np.array([matrix[0]]))\n",
    "predicted_label = text_labels[np.argmax(prediction)]\n",
    "print(\"predict:{0}\\nindex:{1} \\nlabel:{2}\".format(prediction, np.argmax(prediction), predicted_label))"
   ]
  },
  {
   "cell_type": "code",
   "execution_count": 33,
   "metadata": {
    "pycharm": {
     "is_executing": false
    }
   },
   "outputs": [],
   "source": [
    "y_softmax = model.predict(x_test)\n",
    "\n",
    "y_test_1d = []\n",
    "y_pred_1d = []\n",
    "\n",
    "for i in range(len(y_test_cat)):\n",
    "    probs = y_test_cat[i]\n",
    "    index_arr = np.nonzero(probs)\n",
    "    one_hot_index = index_arr[0].item(0)\n",
    "    y_test_1d.append(one_hot_index)\n",
    "\n",
    "for i in range(0, len(y_softmax)):\n",
    "    probs = y_softmax[i]\n",
    "    predicted_index = np.argmax(probs)\n",
    "    y_pred_1d.append(predicted_index)"
   ]
  },
  {
   "cell_type": "code",
   "execution_count": 34,
   "metadata": {},
   "outputs": [],
   "source": [
    "# This utility function is from the sklearn docs: http://scikit-learn.org/stable/auto_examples/model_selection/plot_confusion_matrix.html\n",
    "def plot_confusion_matrix(cm, classes, title='Confusion matrix', cmap=plt.cm.Blues):\n",
    "    \"\"\"\n",
    "    This function prints and plots the confusion matrix.\n",
    "    Normalization can be applied by setting `normalize=True`.\n",
    "    \"\"\"\n",
    "\n",
    "    cm = cm.astype('float') / cm.sum(axis=1)[:, np.newaxis]\n",
    "\n",
    "    plt.imshow(cm, interpolation='nearest', cmap=cmap)\n",
    "    plt.title(title, fontsize=30)\n",
    "    plt.colorbar()\n",
    "    tick_marks = np.arange(len(classes))\n",
    "    plt.xticks(tick_marks, classes, rotation=45, fontsize=22)\n",
    "    plt.yticks(tick_marks, classes, fontsize=22)\n",
    "\n",
    "    fmt = '.2f'\n",
    "    thresh = cm.max() / 2.\n",
    "    for i, j in itertools.product(range(cm.shape[0]), range(cm.shape[1])):\n",
    "        plt.text(j, i, format(cm[i, j], fmt),\n",
    "                 horizontalalignment=\"center\",\n",
    "                 color=\"white\" if cm[i, j] > thresh else \"black\")\n",
    "\n",
    "    plt.ylabel('Correct label', fontsize=25)\n",
    "    plt.xlabel('Predicted label', fontsize=25)"
   ]
  },
  {
   "cell_type": "code",
   "execution_count": 35,
   "metadata": {},
   "outputs": [
    {
     "data": {
      "image/png": "[encoded data removed]",
      "text/plain": [
       "<Figure size 1728x1440 with 2 Axes>"
      ]
     },
     "metadata": {
      "needs_background": "light"
     },
     "output_type": "display_data"
    }
   ],
   "source": [
    "cnf_matrix = confusion_matrix(y_test_1d, y_pred_1d)\n",
    "plt.figure(figsize=(24,20))\n",
    "plot_confusion_matrix(cnf_matrix, classes=text_labels, title=\"Confusion matrix\")\n",
    "plt.show()"
   ]
  }
 ],
 "metadata": {
  "kernelspec": {
   "display_name": "Python 3",
   "language": "python",
   "name": "python3"
  },
  "language_info": {
   "codemirror_mode": {
    "name": "ipython",
    "version": 3
   },
   "file_extension": ".py",
   "mimetype": "text/x-python",
   "name": "python",
   "nbconvert_exporter": "python",
   "pygments_lexer": "ipython3",
   "version": "3.6.8"
  },
  "pycharm": {
   "stem_cell": {
    "cell_type": "raw",
    "metadata": {
     "collapsed": false
    },
    "source": []
   }
  }
 },
 "nbformat": 4,
 "nbformat_minor": 2
}
